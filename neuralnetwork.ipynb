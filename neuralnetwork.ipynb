{
  "cells": [
    {
      "cell_type": "markdown",
      "metadata": {
        "id": "view-in-github",
        "colab_type": "text"
      },
      "source": [
        "<a href=\"https://colab.research.google.com/github/Ihimanshudhar/Symbol-table-cpp/blob/main/neuralnetwork.ipynb\" target=\"_parent\"><img src=\"https://colab.research.google.com/assets/colab-badge.svg\" alt=\"Open In Colab\"/></a>"
      ]
    },
    {
      "cell_type": "code",
      "execution_count": 77,
      "metadata": {
        "id": "D2IiL_0bMMJU"
      },
      "outputs": [],
      "source": [
        "import pandas as pd\n",
        "import numpy as np\n",
        "import tensorflow as tf\n",
        "from tensorflow import keras\n",
        "from tensorflow.keras import layers\n",
        "from sklearn.model_selection import train_test_split\n",
        "from sklearn.feature_extraction.text import TfidfVectorizer\n",
        "from sklearn.metrics import mean_absolute_error\n",
        "from tensorflow.keras.preprocessing.text import Tokenizer\n",
        "from tensorflow.keras.preprocessing.sequence import pad_sequences\n",
        "from gensim.models import Word2Vec"
      ]
    },
    {
      "cell_type": "code",
      "source": [
        "train_data = pd.DataFrame({\n",
        "    \"review\": [\n",
        "         \"I absolutely loved it!\",\n",
        "         \"Terrible, would not recommend.\",\n",
        "         \"It was okay, not the best but not the worst.\",\n",
        "         \"Amazing film with superb acting.\",\n",
        "         \"Disappointing, a waste of time.\",\n",
        "         \"An outstanding masterpiece!\",\n",
        "         \"Mediocre at best.\",\n",
        "         \"A brilliant and engaging experience.\",\n",
        "         \"Not my cup of tea.\",\n",
        "         \"Simply fantastic.\"\n",
        "    ],\n",
        "    \"label\": [5.0, 1.0, 3.0, 4.5, 1.5, 5.0, 3.0, 4.0, 2.0, 5.0]\n",
        "})\n",
        "train_data.to_csv(\"train.csv\", index=False)\n",
        "\n",
        "# Step 2: Generate Sample Test Data\n",
        "test_data = pd.DataFrame({\n",
        "    \"review\": [\n",
        "         \"I absolutely loved it!\",\n",
        "         \"I loved the cinematography.\",\n",
        "         \"Worst experience ever.\",\n",
        "         \"Not bad, could be better.\",\n",
        "         \"Absolutely mind-blowing performance!\",\n",
        "         \"I did not like it.\"\n",
        "    ]\n",
        "})\n",
        "test_data.to_csv(\"test.csv\", index=False)"
      ],
      "metadata": {
        "id": "ef53wmq6l86Y"
      },
      "execution_count": 35,
      "outputs": []
    },
    {
      "cell_type": "code",
      "execution_count": 94,
      "metadata": {
        "id": "hYg1E3XOMMJY",
        "outputId": "fb947ba2-3a16-473e-8bba-77d8333aa049",
        "colab": {
          "base_uri": "https://localhost:8080/"
        }
      },
      "outputs": [
        {
          "output_type": "stream",
          "name": "stderr",
          "text": [
            "<ipython-input-94-c8e3170ef7ca>:3: FutureWarning: A value is trying to be set on a copy of a DataFrame or Series through chained assignment using an inplace method.\n",
            "The behavior will change in pandas 3.0. This inplace method will never work because the intermediate object on which we are setting values always behaves as a copy.\n",
            "\n",
            "For example, when doing 'df[col].method(value, inplace=True)', try using 'df.method({col: value}, inplace=True)' or df[col] = df[col].method(value) instead, to perform the operation inplace on the original object.\n",
            "\n",
            "\n",
            "  train_df[\"review\"].fillna(\"\", inplace=True)\n",
            "<ipython-input-94-c8e3170ef7ca>:4: FutureWarning: A value is trying to be set on a copy of a DataFrame or Series through chained assignment using an inplace method.\n",
            "The behavior will change in pandas 3.0. This inplace method will never work because the intermediate object on which we are setting values always behaves as a copy.\n",
            "\n",
            "For example, when doing 'df[col].method(value, inplace=True)', try using 'df.method({col: value}, inplace=True)' or df[col] = df[col].method(value) instead, to perform the operation inplace on the original object.\n",
            "\n",
            "\n",
            "  test_df[\"review\"].fillna(\"\", inplace=True)\n"
          ]
        }
      ],
      "source": [
        "train_df = pd.read_csv(\"train.csv\")\n",
        "test_df = pd.read_csv(\"test.csv\")\n",
        "train_df[\"review\"].fillna(\"\", inplace=True)\n",
        "test_df[\"review\"].fillna(\"\", inplace=True)\n",
        "\n",
        "X = train_df[\"review\"]\n",
        "y = train_df[\"label\"]"
      ]
    },
    {
      "cell_type": "code",
      "source": [
        "\n",
        "# Normalize labels to range [0,1]\n",
        "y = (y - 1) / 4.0\n"
      ],
      "metadata": {
        "id": "elHo4JaclCr1"
      },
      "execution_count": 95,
      "outputs": []
    },
    {
      "cell_type": "code",
      "source": [
        "tfidf = TfidfVectorizer(max_features=10000, ngram_range=(1, 2), stop_words=\"english\")\n",
        "X_tfidf = tfidf.fit_transform(X).toarray()\n",
        "X_train, X_val, y_train, y_val = train_test_split(X_tfidf, y, test_size=0.2, random_state=42)"
      ],
      "metadata": {
        "id": "t1RD5qDVoT2z"
      },
      "execution_count": 96,
      "outputs": []
    },
    {
      "cell_type": "code",
      "source": [
        "\n",
        "model = keras.Sequential([\n",
        "    layers.Input(shape=(X_train.shape[1],)),\n",
        "    layers.Dense(128, activation=\"relu\"),\n",
        "    layers.Dropout(0.3),\n",
        "    layers.Dense(64, activation=\"relu\"),\n",
        "    layers.Dense(1, activation=\"sigmoid\")\n",
        "])\n",
        "\n",
        "model.compile(optimizer=\"adam\", loss=\"mse\", metrics=[\"mae\"])\n",
        "\n",
        "history = model.fit(X_train, y_train, validation_data=(X_val, y_val), epochs=10, batch_size=4)"
      ],
      "metadata": {
        "colab": {
          "base_uri": "https://localhost:8080/"
        },
        "id": "ghrCA4uIoevG",
        "outputId": "e12f0066-6fe6-46e1-b4ae-e188472e40b4"
      },
      "execution_count": 97,
      "outputs": [
        {
          "output_type": "stream",
          "name": "stdout",
          "text": [
            "Epoch 1/10\n",
            "\u001b[1m2/2\u001b[0m \u001b[32m━━━━━━━━━━━━━━━━━━━━\u001b[0m\u001b[37m\u001b[0m \u001b[1m1s\u001b[0m 175ms/step - loss: 0.1414 - mae: 0.3241 - val_loss: 0.1502 - val_mae: 0.3660\n",
            "Epoch 2/10\n",
            "\u001b[1m2/2\u001b[0m \u001b[32m━━━━━━━━━━━━━━━━━━━━\u001b[0m\u001b[37m\u001b[0m \u001b[1m0s\u001b[0m 54ms/step - loss: 0.1266 - mae: 0.2916 - val_loss: 0.1570 - val_mae: 0.3747\n",
            "Epoch 3/10\n",
            "\u001b[1m2/2\u001b[0m \u001b[32m━━━━━━━━━━━━━━━━━━━━\u001b[0m\u001b[37m\u001b[0m \u001b[1m0s\u001b[0m 59ms/step - loss: 0.1458 - mae: 0.3423 - val_loss: 0.1644 - val_mae: 0.3838\n",
            "Epoch 4/10\n",
            "\u001b[1m2/2\u001b[0m \u001b[32m━━━━━━━━━━━━━━━━━━━━\u001b[0m\u001b[37m\u001b[0m \u001b[1m0s\u001b[0m 58ms/step - loss: 0.1155 - mae: 0.2924 - val_loss: 0.1706 - val_mae: 0.3914\n",
            "Epoch 5/10\n",
            "\u001b[1m2/2\u001b[0m \u001b[32m━━━━━━━━━━━━━━━━━━━━\u001b[0m\u001b[37m\u001b[0m \u001b[1m0s\u001b[0m 71ms/step - loss: 0.1273 - mae: 0.3225 - val_loss: 0.1776 - val_mae: 0.3999\n",
            "Epoch 6/10\n",
            "\u001b[1m2/2\u001b[0m \u001b[32m━━━━━━━━━━━━━━━━━━━━\u001b[0m\u001b[37m\u001b[0m \u001b[1m0s\u001b[0m 67ms/step - loss: 0.0987 - mae: 0.2588 - val_loss: 0.1839 - val_mae: 0.4074\n",
            "Epoch 7/10\n",
            "\u001b[1m2/2\u001b[0m \u001b[32m━━━━━━━━━━━━━━━━━━━━\u001b[0m\u001b[37m\u001b[0m \u001b[1m0s\u001b[0m 63ms/step - loss: 0.1116 - mae: 0.2894 - val_loss: 0.1906 - val_mae: 0.4154\n",
            "Epoch 8/10\n",
            "\u001b[1m2/2\u001b[0m \u001b[32m━━━━━━━━━━━━━━━━━━━━\u001b[0m\u001b[37m\u001b[0m \u001b[1m0s\u001b[0m 54ms/step - loss: 0.1125 - mae: 0.2999 - val_loss: 0.1979 - val_mae: 0.4236\n",
            "Epoch 9/10\n",
            "\u001b[1m2/2\u001b[0m \u001b[32m━━━━━━━━━━━━━━━━━━━━\u001b[0m\u001b[37m\u001b[0m \u001b[1m0s\u001b[0m 57ms/step - loss: 0.0932 - mae: 0.2565 - val_loss: 0.2051 - val_mae: 0.4318\n",
            "Epoch 10/10\n",
            "\u001b[1m2/2\u001b[0m \u001b[32m━━━━━━━━━━━━━━━━━━━━\u001b[0m\u001b[37m\u001b[0m \u001b[1m0s\u001b[0m 66ms/step - loss: 0.0890 - mae: 0.2597 - val_loss: 0.2123 - val_mae: 0.4396\n"
          ]
        }
      ]
    },
    {
      "cell_type": "code",
      "source": [
        "val_preds = model.predict(X_val).flatten()\n",
        "val_mae = mean_absolute_error(y_val, val_preds)\n",
        "print(f\"Validation MAE: {val_mae:.4f}\")"
      ],
      "metadata": {
        "colab": {
          "base_uri": "https://localhost:8080/"
        },
        "id": "xw_Wh9sgoiC6",
        "outputId": "c5c247ec-2fbe-48c7-f9a8-eec73893cb39"
      },
      "execution_count": 98,
      "outputs": [
        {
          "output_type": "stream",
          "name": "stdout",
          "text": [
            "\u001b[1m1/1\u001b[0m \u001b[32m━━━━━━━━━━━━━━━━━━━━\u001b[0m\u001b[37m\u001b[0m \u001b[1m0s\u001b[0m 82ms/step\n",
            "Validation MAE: 0.4396\n"
          ]
        }
      ]
    },
    {
      "cell_type": "code",
      "source": [
        "\n",
        "X_test_tfidf = tfidf.transform(test_df[\"review\"]).toarray()\n",
        "test_preds = model.predict(X_test_tfidf).flatten()\n",
        "\n",
        "\n",
        "test_preds = test_preds * 4 + 1\n",
        "test_preds = np.clip(test_preds, 1, 5)\n",
        "\n",
        "\n",
        "print(f\"Test Predictions Range: min={test_preds.min()}, max={test_preds.max()}\")\n",
        "\n",
        "\n",
        "submission_df = pd.DataFrame({\n",
        "    \"review\": test_df[\"review\"],\n",
        "    \"label\": test_preds\n",
        "})\n",
        "submission_df.to_csv(\"submissions.csv\", index=False)\n",
        "print(\"submissions.csv generated!\")"
      ],
      "metadata": {
        "colab": {
          "base_uri": "https://localhost:8080/"
        },
        "id": "xwkTaF52oouf",
        "outputId": "a0742488-9c6e-4d2c-ddcb-0041f097e01d"
      },
      "execution_count": 99,
      "outputs": [
        {
          "output_type": "stream",
          "name": "stdout",
          "text": [
            "\u001b[1m1/1\u001b[0m \u001b[32m━━━━━━━━━━━━━━━━━━━━\u001b[0m\u001b[37m\u001b[0m \u001b[1m0s\u001b[0m 81ms/step\n",
            "Test Predictions Range: min=3.1335277557373047, max=3.341707468032837\n",
            "submissions.csv generated!\n"
          ]
        }
      ]
    },
    {
      "cell_type": "markdown",
      "source": [
        "## Word2Vec embeddings CNN + LSTM architecture"
      ],
      "metadata": {
        "id": "OOy0gYO9sNIL"
      }
    }
  ],
  "metadata": {
    "kernelspec": {
      "display_name": ".venv",
      "language": "python",
      "name": "python3"
    },
    "language_info": {
      "codemirror_mode": {
        "name": "ipython",
        "version": 3
      },
      "file_extension": ".py",
      "mimetype": "text/x-python",
      "name": "python",
      "nbconvert_exporter": "python",
      "pygments_lexer": "ipython3",
      "version": "3.13.1"
    },
    "colab": {
      "provenance": [],
      "include_colab_link": true
    }
  },
  "nbformat": 4,
  "nbformat_minor": 0
}